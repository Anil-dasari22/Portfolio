{
  "nbformat": 4,
  "nbformat_minor": 0,
  "metadata": {
    "colab": {
      "provenance": [],
      "authorship_tag": "ABX9TyPfrSTT15GjQgeqlQYyAk4x",
      "include_colab_link": true
    },
    "kernelspec": {
      "name": "python3",
      "display_name": "Python 3"
    },
    "language_info": {
      "name": "python"
    }
  },
  "cells": [
    {
      "cell_type": "markdown",
      "metadata": {
        "id": "view-in-github",
        "colab_type": "text"
      },
      "source": [
        "<a href=\"https://colab.research.google.com/github/Anil-dasari22/Portfolio/blob/main/Untitled3.ipynb\" target=\"_parent\"><img src=\"https://colab.research.google.com/assets/colab-badge.svg\" alt=\"Open In Colab\"/></a>"
      ]
    },
    {
      "cell_type": "code",
      "execution_count": 7,
      "metadata": {
        "id": "ufg6tEKCcgJ7"
      },
      "outputs": [],
      "source": [
        "def water_jug_solver(jug1_capacity, jug2_capacity, target):\n",
        "    visited = set()\n",
        "    path = []\n",
        "\n",
        "    def dfs(x, y):\n",
        "        if (x, y) in visited:\n",
        "            return False\n",
        "        visited.add((x, y))\n",
        "        path.append((x, y))\n",
        "\n",
        "        if x == target:\n",
        "            return True\n",
        "\n",
        "        # Possible Moves:\n",
        "        return (\n",
        "            dfs(jug1_capacity, y) or   # Fill Jug A\n",
        "            dfs(x, jug2_capacity) or   # Fill Jug B\n",
        "            dfs(0, y) or               # Empty Jug A\n",
        "            dfs(x, 0) or               # Empty Jug B\n",
        "            dfs(x - min(x, jug2_capacity - y), y + min(x, jug2_capacity - y)) or  # A → B\n",
        "            dfs(x + min(y, jug1_capacity - x), y - min(y, jug1_capacity - x))     # B → A\n",
        "        )\n",
        "\n",
        "    if dfs(0, 0):\n",
        "        return path\n",
        "    else:\n",
        "        return \"No solution found\""
      ]
    },
    {
      "cell_type": "code",
      "metadata": {
        "colab": {
          "base_uri": "https://localhost:8080/"
        },
        "id": "ddc06dbd",
        "outputId": "1b000d13-f434-41bb-dd8f-a294c54c3e38"
      },
      "source": [
        "# Example usage:\n",
        "jug1_capacity = 4\n",
        "jug2_capacity = 3\n",
        "target = 2\n",
        "\n",
        "solution_path = water_jug_solver(jug1_capacity, jug2_capacity, target)\n",
        "print(solution_path)"
      ],
      "execution_count": 8,
      "outputs": [
        {
          "output_type": "stream",
          "name": "stdout",
          "text": [
            "[(0, 0), (4, 0), (4, 3), (0, 3), (3, 0), (3, 3), (4, 2), (0, 2), (2, 0)]\n"
          ]
        }
      ]
    },
    {
      "cell_type": "markdown",
      "source": [],
      "metadata": {
        "id": "22_dBHbve8FL"
      }
    },
    {
      "cell_type": "code",
      "source": [
        "from collections import deque\n",
        "\n",
        "class State:\n",
        "    def __init__(self, monkey_pos, box_pos, monkey_on_box, has_banana):\n",
        "        self.monkey_pos = monkey_pos\n",
        "        self.box_pos = box_pos\n",
        "        self.monkey_on_box = monkey_on_box\n",
        "        self.has_banana = has_banana\n",
        "\n",
        "    def __eq__(self, other):\n",
        "        return (self.monkey_pos == other.monkey_pos and\n",
        "                self.box_pos == other.box_pos and\n",
        "                self.monkey_on_box == other.monkey_on_box and\n",
        "                self.has_banana == other.has_banana)\n",
        "\n",
        "    def __hash__(self):\n",
        "        return hash((self.monkey_pos, self.box_pos, self.monkey_on_box, self.has_banana))\n",
        "\n",
        "    def __repr__(self):\n",
        "        return (f\"State(monkey_pos={self.monkey_pos}, box_pos={self.box_pos}, \"\n",
        "                f\"monkey_on_box={self.monkey_on_box}, has_banana={self.has_banana})\")\n",
        "\n",
        "# Possible positions in the room\n",
        "positions = ['window', 'banana_spot', 'middle']\n",
        "\n",
        "def actions(state):\n",
        "    acts = []\n",
        "    # Monkey walks on floor\n",
        "    if not state.monkey_on_box:\n",
        "        for pos in positions:\n",
        "            if pos != state.monkey_pos:\n",
        "                acts.append(('walk', pos))\n",
        "\n",
        "    # Monkey pushes box (only if monkey and box are in same position, monkey on floor)\n",
        "    if not state.monkey_on_box and state.monkey_pos == state.box_pos:\n",
        "        for pos in positions:\n",
        "            if pos != state.box_pos:\n",
        "                acts.append(('push', pos))\n",
        "\n",
        "    # Monkey climbs box (if monkey and box are in same pos and monkey not on box)\n",
        "    if not state.monkey_on_box and state.monkey_pos == state.box_pos:\n",
        "        acts.append(('climb', None))\n",
        "\n",
        "    # Monkey grasps banana (if monkey on box and box under bananas)\n",
        "    if state.monkey_on_box and state.box_pos == 'banana_spot':\n",
        "        acts.append(('grasp', None))\n",
        "\n",
        "    return acts\n",
        "\n",
        "def result(state, action):\n",
        "    act, pos = action\n",
        "    if act == 'walk':\n",
        "        return State(monkey_pos=pos,\n",
        "                     box_pos=state.box_pos,\n",
        "                     monkey_on_box=False,\n",
        "                     has_banana=state.has_banana)\n",
        "    elif act == 'push':\n",
        "        return State(monkey_pos=pos,\n",
        "                     box_pos=pos,\n",
        "                     monkey_on_box=False,\n",
        "                     has_banana=state.has_banana)\n",
        "    elif act == 'climb':\n",
        "        return State(monkey_pos=state.monkey_pos,\n",
        "                     box_pos=state.box_pos,\n",
        "                     monkey_on_box=True,\n",
        "                     has_banana=state.has_banana)\n",
        "    elif act == 'grasp':\n",
        "        return State(monkey_pos=state.monkey_pos,\n",
        "                     box_pos=state.box_pos,\n",
        "                     monkey_on_box=True,\n",
        "                     has_banana=True)\n",
        "    else:\n",
        "        return state\n",
        "\n",
        "def goal_test(state):\n",
        "    return state.has_banana\n",
        "\n",
        "def bfs(initial_state):\n",
        "    frontier = deque([initial_state])\n",
        "    explored = set()\n",
        "    parent = {initial_state: None}\n",
        "    action_taken = {initial_state: None}\n",
        "\n",
        "    while frontier:\n",
        "        state = frontier.popleft()\n",
        "\n",
        "        if goal_test(state):\n",
        "            # Reconstruct path\n",
        "            path = []\n",
        "            while state:\n",
        "                act = action_taken[state]\n",
        "                path.append((state, act))\n",
        "                state = parent[state]\n",
        "            path.reverse()\n",
        "            return path\n",
        "\n",
        "        explored.add(state)\n",
        "\n",
        "        for act in actions(state):\n",
        "            new_state = result(state, act)\n",
        "            if new_state not in explored and new_state not in frontier:\n",
        "                frontier.append(new_state)\n",
        "                parent[new_state] = state\n",
        "                action_taken[new_state] = act\n",
        "\n",
        "    return None\n",
        "\n",
        "# Initial state\n",
        "initial_state = State(monkey_pos='window', box_pos='window', monkey_on_box=False, has_banana=False)\n",
        "\n",
        "solution = bfs(initial_state)\n",
        "\n",
        "if solution:\n",
        "    print(\"Solution found:\")\n",
        "    for s, a in solution:\n",
        "        print(f\"Action: {a}, Resulting State: {s}\")\n",
        "else:\n",
        "    print(\"No solution found.\")\n"
      ],
      "metadata": {
        "colab": {
          "base_uri": "https://localhost:8080/"
        },
        "id": "AxOzDGPPe-sv",
        "outputId": "ea4785b9-bbab-4e46-fc83-ab831b2df843"
      },
      "execution_count": 9,
      "outputs": [
        {
          "output_type": "stream",
          "name": "stdout",
          "text": [
            "Solution found:\n",
            "Action: None, Resulting State: State(monkey_pos=window, box_pos=window, monkey_on_box=False, has_banana=False)\n",
            "Action: ('push', 'banana_spot'), Resulting State: State(monkey_pos=banana_spot, box_pos=banana_spot, monkey_on_box=False, has_banana=False)\n",
            "Action: ('climb', None), Resulting State: State(monkey_pos=banana_spot, box_pos=banana_spot, monkey_on_box=True, has_banana=False)\n",
            "Action: ('grasp', None), Resulting State: State(monkey_pos=banana_spot, box_pos=banana_spot, monkey_on_box=True, has_banana=True)\n"
          ]
        }
      ]
    },
    {
      "cell_type": "code",
      "metadata": {
        "colab": {
          "base_uri": "https://localhost:8080/"
        },
        "id": "511476a2",
        "outputId": "4193e78c-2f66-4108-cd4f-3db369d7cddb"
      },
      "source": [
        "# Initial state\n",
        "initial_state = State(monkey_pos='window', box_pos='window', monkey_on_box=False, has_banana=False)\n",
        "\n",
        "solution = bfs(initial_state)\n",
        "\n",
        "if solution:\n",
        "    print(\"Solution found:\")\n",
        "    for s, a in solution:\n",
        "        print(f\"Action: {a}, Resulting State: {s}\")\n",
        "else:\n",
        "    print(\"No solution found.\")"
      ],
      "execution_count": 10,
      "outputs": [
        {
          "output_type": "stream",
          "name": "stdout",
          "text": [
            "Solution found:\n",
            "Action: None, Resulting State: State(monkey_pos=window, box_pos=window, monkey_on_box=False, has_banana=False)\n",
            "Action: ('push', 'banana_spot'), Resulting State: State(monkey_pos=banana_spot, box_pos=banana_spot, monkey_on_box=False, has_banana=False)\n",
            "Action: ('climb', None), Resulting State: State(monkey_pos=banana_spot, box_pos=banana_spot, monkey_on_box=True, has_banana=False)\n",
            "Action: ('grasp', None), Resulting State: State(monkey_pos=banana_spot, box_pos=banana_spot, monkey_on_box=True, has_banana=True)\n"
          ]
        }
      ]
    },
    {
      "cell_type": "code",
      "source": [
        "# Define sample data sets\n",
        "cars = {\n",
        "    'car1': {'has_carburetor': True},\n",
        "    'car2': {'has_carburetor': False},\n",
        "}\n",
        "\n",
        "people = {\n",
        "    'alice': {'religious': True, 'pious': False},\n",
        "    'bob': {'religious': False, 'pious': True},\n",
        "    'charlie': {'religious': False, 'pious': False},\n",
        "}\n",
        "\n",
        "dogs = {\n",
        "    'dog1': {'intelligent': False},\n",
        "    'dog2': {'intelligent': False},\n",
        "}\n",
        "\n",
        "babies = {\n",
        "    'baby1': {'illogical': True},\n",
        "    'baby2': {'illogical': True},\n",
        "}\n",
        "\n",
        "numbers = {\n",
        "    'num1': {'negative': True, 'has_square_root': False, 'real': True},\n",
        "    'num2': {'negative': False, 'has_square_root': True, 'real': True},\n",
        "    'num3': {'negative': False, 'has_square_root': False, 'real': False},\n",
        "}\n",
        "\n",
        "graphs = {\n",
        "    'graph1': {'connected': True, 'circuit_free': True, 'is_tree': True},\n",
        "    'graph2': {'connected': True, 'circuit_free': False, 'is_tree': False},\n",
        "}\n",
        "\n",
        "# Predicates as functions\n",
        "\n",
        "def car(x):\n",
        "    return x in cars\n",
        "\n",
        "def has_carburetor(x):\n",
        "    return cars.get(x, {}).get('has_carburetor', False)\n",
        "\n",
        "def person(x):\n",
        "    return x in people\n",
        "\n",
        "def religious(x):\n",
        "    return people.get(x, {}).get('religious', False)\n",
        "\n",
        "def pious(x):\n",
        "    return people.get(x, {}).get('pious', False)\n",
        "\n",
        "def dog(x):\n",
        "    return x in dogs\n",
        "\n",
        "def intelligent(x):\n",
        "    return dogs.get(x, {}).get('intelligent', False)\n",
        "\n",
        "def baby(x):\n",
        "    return x in babies\n",
        "\n",
        "def illogical(x):\n",
        "    return babies.get(x, {}).get('illogical', False)\n",
        "\n",
        "def number(x):\n",
        "    return x in numbers\n",
        "\n",
        "def negative(x):\n",
        "    return numbers.get(x, {}).get('negative', False)\n",
        "\n",
        "def has_square_root(x):\n",
        "    return numbers.get(x, {}).get('has_square_root', False)\n",
        "\n",
        "def real(x):\n",
        "    return numbers.get(x, {}).get('real', False)\n",
        "\n",
        "def graph(x):\n",
        "    return x in graphs\n",
        "\n",
        "def connected(x):\n",
        "    return graphs.get(x, {}).get('connected', False)\n",
        "\n",
        "def circuit_free(x):\n",
        "    return graphs.get(x, {}).get('circuit_free', False)\n",
        "\n",
        "def tree(x):\n",
        "    return graphs.get(x, {}).get('is_tree', False)\n",
        "\n",
        "# Checking statements\n",
        "\n",
        "def not_all_cars_have_carburetors():\n",
        "    # There exists a car that does not have a carburetor\n",
        "    return any(car(x) and not has_carburetor(x) for x in cars)\n",
        "\n",
        "def some_people_religious_or_pious():\n",
        "    return any(person(x) and (religious(x) or pious(x)) for x in people)\n",
        "\n",
        "def no_dogs_intelligent():\n",
        "    return all(not intelligent(x) for x in dogs if dog(x))\n",
        "\n",
        "def all_babies_illogical():\n",
        "    return all(illogical(x) for x in babies if baby(x))\n",
        "\n",
        "def every_number_negative_or_has_square_root():\n",
        "    return all(negative(x) or has_square_root(x) for x in numbers if number(x))\n",
        "\n",
        "def some_numbers_not_real():\n",
        "    return any(number(x) and not real(x) for x in numbers)\n",
        "\n",
        "def every_connected_circuit_free_graph_is_tree():\n",
        "    return all(\n",
        "        (not (connected(x) and circuit_free(x))) or tree(x)\n",
        "        for x in graphs if graph(x)\n",
        "    )\n",
        "\n",
        "# Output checks\n",
        "\n",
        "print(\"Not all cars have carburetors:\", not_all_cars_have_carburetors())\n",
        "print(\"Some people are either religious or pious:\", some_people_religious_or_pious())\n",
        "print(\"No dogs are intelligent:\", no_dogs_intelligent())\n",
        "print(\"All babies are illogical:\", all_babies_illogical())\n",
        "print(\"Every number is either negative or has a square root:\", every_number_negative_or_has_square_root())\n",
        "print(\"Some numbers are not real:\", some_numbers_not_real())\n",
        "print(\"Every connected and circuit-free graph is a tree:\", every_connected_circuit_free_graph_is_tree())\n"
      ],
      "metadata": {
        "id": "rIfjiWzhjEBU"
      },
      "execution_count": null,
      "outputs": []
    },
    {
      "cell_type": "code",
      "metadata": {
        "colab": {
          "base_uri": "https://localhost:8080/",
          "height": 211
        },
        "id": "b0061c60",
        "outputId": "a0dd6d1a-4447-4de0-c787-2717e914ee04"
      },
      "source": [
        "# Output checks\n",
        "\n",
        "print(\"Not all cars have carburetors:\", not_all_cars_have_carburetors())\n",
        "print(\"Some people are either religious or pious:\", some_people_religious_or_pious())\n",
        "print(\"No dogs are intelligent:\", no_dogs_intelligent())\n",
        "print(\"All babies are illogical:\", all_babies_illogical())\n",
        "print(\"Every number is either negative or has a square root:\", every_number_negative_or_has_square_root())\n",
        "print(\"Some numbers are not real:\", some_numbers_not_real())\n",
        "print(\"Every connected and circuit-free graph is a tree:\", every_connected_circuit_free_graph_is_tree())"
      ],
      "execution_count": 11,
      "outputs": [
        {
          "output_type": "error",
          "ename": "NameError",
          "evalue": "name 'not_all_cars_have_carburetors' is not defined",
          "traceback": [
            "\u001b[0;31m---------------------------------------------------------------------------\u001b[0m",
            "\u001b[0;31mNameError\u001b[0m                                 Traceback (most recent call last)",
            "\u001b[0;32m/tmp/ipython-input-955305845.py\u001b[0m in \u001b[0;36m<cell line: 0>\u001b[0;34m()\u001b[0m\n\u001b[1;32m      1\u001b[0m \u001b[0;31m# Output checks\u001b[0m\u001b[0;34m\u001b[0m\u001b[0;34m\u001b[0m\u001b[0m\n\u001b[1;32m      2\u001b[0m \u001b[0;34m\u001b[0m\u001b[0m\n\u001b[0;32m----> 3\u001b[0;31m \u001b[0mprint\u001b[0m\u001b[0;34m(\u001b[0m\u001b[0;34m\"Not all cars have carburetors:\"\u001b[0m\u001b[0;34m,\u001b[0m \u001b[0mnot_all_cars_have_carburetors\u001b[0m\u001b[0;34m(\u001b[0m\u001b[0;34m)\u001b[0m\u001b[0;34m)\u001b[0m\u001b[0;34m\u001b[0m\u001b[0;34m\u001b[0m\u001b[0m\n\u001b[0m\u001b[1;32m      4\u001b[0m \u001b[0mprint\u001b[0m\u001b[0;34m(\u001b[0m\u001b[0;34m\"Some people are either religious or pious:\"\u001b[0m\u001b[0;34m,\u001b[0m \u001b[0msome_people_religious_or_pious\u001b[0m\u001b[0;34m(\u001b[0m\u001b[0;34m)\u001b[0m\u001b[0;34m)\u001b[0m\u001b[0;34m\u001b[0m\u001b[0;34m\u001b[0m\u001b[0m\n\u001b[1;32m      5\u001b[0m \u001b[0mprint\u001b[0m\u001b[0;34m(\u001b[0m\u001b[0;34m\"No dogs are intelligent:\"\u001b[0m\u001b[0;34m,\u001b[0m \u001b[0mno_dogs_intelligent\u001b[0m\u001b[0;34m(\u001b[0m\u001b[0;34m)\u001b[0m\u001b[0;34m)\u001b[0m\u001b[0;34m\u001b[0m\u001b[0;34m\u001b[0m\u001b[0m\n",
            "\u001b[0;31mNameError\u001b[0m: name 'not_all_cars_have_carburetors' is not defined"
          ]
        }
      ]
    }
  ]
}