{
  "cells": [
    {
      "metadata": {
        "colab": {
          "base_uri": "https://localhost:8080/"
        },
        "id": "NHO9VzO9AHZP",
        "outputId": "64ece854-f813-4a6f-8c92-6abf88e3df3c"
      },
      "cell_type": "code",
      "source": [
        " import json\n",
        "\n",
        "\n",
        "environment_data = {\n",
        "  \"A\": \"Dirty\",\n",
        "  \"B\": \"Clean\"\n",
        "}\n",
        "\n",
        "with open(\"vacuum_environment.json\", \"w\") as f:\n",
        "  json.dump(environment_data, f)\n",
        "\n",
        "print(\"Created vacuum_environment.json with sample data.\")"
      ],
      "outputs": [
        {
          "output_type": "stream",
          "name": "stdout",
          "text": [
            "Created vacuum_environment.json with sample data.\n"
          ]
        }
      ],
      "execution_count": 26
    },
    {
      "metadata": {
        "id": "Ucchuu5vV3Jp"
      },
      "cell_type": "code",
      "source": [
        "import json\n",
        "\n",
        "class SimpleReflexAgent:\n",
        "    def __init__(self, env):\n",
        "      self.location = 'A'\n",
        "      self.environment = env\n",
        "\n",
        "    def perceive(self):\n",
        "      return self.environment, self.environment[self.location]\n",
        "\n",
        "    def act(self, percept):\n",
        "      loc, status = percept\n",
        "      if status == 'Dirty':\n",
        "        self.environment[loc] = \"Clean\"\n",
        "        return \"Clean\"\n",
        "      else:\n",
        "        self.location = 'B' if loc == 'A' else 'A'\n",
        "        return f\"Move to {self.location}\"\n",
        "\n",
        "def main():\n",
        "  with open(\"vacuum_environment.json\") as f:\n",
        "    environment = json.load(f)\n",
        "\n",
        "  agent = SimpleReflexAgent(environment)\n",
        "\n",
        "  for _ in range(4):\n",
        "    percept = agent.perceive()\n",
        "    action = agent.act(percept)\n",
        "    print(f\"Room {agent.location} - {environment[agent.location]}\")\n",
        "    print(f\"Action: {action}\\n\")"
      ],
      "outputs": [],
      "execution_count": 29
    },
    {
      "cell_type": "code",
      "source": [
        "class VacuumEnvironment:\n",
        "  def __init__(self, size, dirt_positions):\n",
        "    self.size = size\n",
        "    self.rooms = ['Room_' + chr(65 + i) for i in range(size)]\n",
        "    self.state = {room: ('Dirty' if room in dirt_positions else\n",
        "'Clean') for room in self.rooms}\n",
        "    self.agent_position = self.rooms[0]\n",
        "    self.total_dirt_cleaned = 0\n",
        "    self.energy_used = 0\n",
        "    self.logs = []\n",
        "\n",
        "def percept(self):\n",
        "  return (self.agent_position, self.state[self.agent_position])\n",
        "\n",
        "def execute_action(self, action):\n",
        "  self.energy_used += 1\n",
        "  log = f\"Agent in {self.agent_position}, found{self.state[self.agent_position]} --> Action: {action}\"\n",
        "\n",
        "  if action == 'Suck':\n",
        "    if self.state[self.agent_position] == 'Dirty':\n",
        "      self.state[self.agent_position] = 'Clean'\n",
        "      self.total_dirt_cleaned += 1\n",
        "      log += \" [Dirt cleaned]\"\n",
        "  elif action == 'Left':\n",
        "    idx = self.rooms.index(self.agent_position)\n",
        "    if idx > 0:\n",
        "      self.agent_position = self.rooms[idx - 1]\n",
        "  elif action == 'Right':\n",
        "   idx = self.rooms.index(self.agent_position)\n",
        "   if idx < self.size - 1:\n",
        "      self.agent_position = self.rooms[idx + 1]\n",
        "\n",
        "  self.logs.append(log)\n",
        "\n",
        "def print_final_state(self):\n",
        "    print(\"\\n--- Final Environment State ---\")\n",
        "    for room in self.rooms:\n",
        "        print(f\"{room}: {self.state[room]}\")\n",
        "    print(f\"\\nTotal Dirt Cleaned: {self.total_dirt_cleaned}\")\n",
        "    print(f\"Total Energy Used: {self.energy_used}\")\n",
        "    print(f\"Performance Score: {self.total_dirt_cleaned - self.energy_used}\")\n",
        "\n",
        "    def print_logs(self):\n",
        "        print(\"\\n--- Simulation Log ---\")\n",
        "        for step, log in enumerate(self.logs, 1):\n",
        "            print(f\"Step {step}: {log}\")"
      ],
      "metadata": {
        "id": "Fibz93JfnIXI"
      },
      "execution_count": 33,
      "outputs": []
    }
  ],
  "metadata": {
    "colab": {
      "provenance": []
    },
    "kernelspec": {
      "name": "python3",
      "display_name": "Python 3"
    },
    "language_info": {
      "name": "python"
    }
  },
  "nbformat": 4,
  "nbformat_minor": 0
}